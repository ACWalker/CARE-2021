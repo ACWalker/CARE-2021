{
 "cells": [
  {
   "cell_type": "code",
   "execution_count": 1,
   "id": "knowing-speech",
   "metadata": {},
   "outputs": [],
   "source": [
    "import crowdtruth\n",
    "from crowdtruth.configuration import DefaultConfig\n",
    "from collections import Counter\n",
    "import pandas as pd\n",
    "import json"
   ]
  },
  {
   "cell_type": "markdown",
   "id": "quiet-estonia",
   "metadata": {},
   "source": [
    "## Loading results exported from toloka"
   ]
  },
  {
   "cell_type": "code",
   "execution_count": 3,
   "id": "foreign-labor",
   "metadata": {},
   "outputs": [],
   "source": [
    "tsv_file1='phase2_results/final_result1.tsv' #pool1 data\n",
    "csv_table1=pd.read_table(tsv_file1,sep='\\t')\n",
    "csv_table1 = csv_table1.drop(columns=['OUTPUT:others','INPUT:image_left','GOLDEN:result','HINT:text','HINT:default_language','GOLDEN:others'])"
   ]
  },
  {
   "cell_type": "code",
   "execution_count": 4,
   "id": "executed-medline",
   "metadata": {},
   "outputs": [],
   "source": [
    "tsv_file2='phase2_results/final_result2.tsv' #pool2 data\n",
    "csv_table2=pd.read_table(tsv_file2,sep='\\t')\n",
    "csv_table2 = csv_table2.drop(columns=['OUTPUT:others','INPUT:image_left','GOLDEN:result','HINT:text','HINT:default_language','GOLDEN:others'])"
   ]
  },
  {
   "cell_type": "code",
   "execution_count": 7,
   "id": "hawaiian-arrest",
   "metadata": {},
   "outputs": [],
   "source": [
    "csv_table = pd.concat([csv_table1, csv_table2], ignore_index=True)"
   ]
  },
  {
   "cell_type": "code",
   "execution_count": 8,
   "id": "other-reform",
   "metadata": {},
   "outputs": [],
   "source": [
    "csv_table = csv_table[csv_table['INPUT:image_right'].notna()]\n",
    "csv_table['OUTPUT:result'] =  csv_table['OUTPUT:result'].apply(lambda x: list(json.loads(x).keys()))"
   ]
  },
  {
   "cell_type": "markdown",
   "id": "random-botswana",
   "metadata": {},
   "source": [
    "## Pre-processing the results"
   ]
  },
  {
   "cell_type": "code",
   "execution_count": 10,
   "id": "invisible-johnston",
   "metadata": {},
   "outputs": [],
   "source": [
    "def process(x):\n",
    "    if x is not None:\n",
    "        x = list(map(lambda y: y.lower(), x))\n",
    "    return x"
   ]
  },
  {
   "cell_type": "code",
   "execution_count": 11,
   "id": "reliable-differential",
   "metadata": {},
   "outputs": [],
   "source": [
    "csv_table['OUTPUT:result'] =  csv_table['OUTPUT:result'].apply(lambda x: process(x))\n",
    "csv_table['OUTPUT:result'] =  csv_table['OUTPUT:result'].apply(lambda x: str(x).replace('[',''))\n",
    "csv_table['OUTPUT:result'] =  csv_table['OUTPUT:result'].apply(lambda x: str(x).replace(']',''))\n",
    "csv_table['OUTPUT:result'] =  csv_table['OUTPUT:result'].apply(lambda x: str(x).replace('\\'',''))\n",
    "csv_table['OUTPUT:result'] =  csv_table['OUTPUT:result'].apply(lambda x: str(x).replace(' ',''))\n",
    "csv_table['ASSIGNMENT:started'] = pd.to_datetime(csv_table['ASSIGNMENT:started'])\n",
    "csv_table['ASSIGNMENT:submitted'] = pd.to_datetime(csv_table['ASSIGNMENT:submitted'])"
   ]
  },
  {
   "cell_type": "code",
   "execution_count": 17,
   "id": "adjustable-colleague",
   "metadata": {},
   "outputs": [],
   "source": [
    "class TestConfig(DefaultConfig):\n",
    "    inputColumns = [\"INPUT:image_right\"]\n",
    "    outputColumns = [\"OUTPUT:result\"]\n",
    "    customPlatformColumns = [\"ASSIGNMENT:assignment_id\", \"ASSIGNMENT:task_suite_id\", \"ASSIGNMENT:worker_id\", \"ASSIGNMENT:started\", \"ASSIGNMENT:submitted\"]\n",
    "    open_ended_task = False\n",
    "    annotation_vector = ['beak',\n",
    " 'head',\n",
    " 'iris',\n",
    " 'pupil',\n",
    " 'mantle',\n",
    " 'lessercoverts',\n",
    " 'scapulars',\n",
    " 'coverts',\n",
    " 'tertials',\n",
    " 'rump',\n",
    " 'primaries',\n",
    " 'vent',\n",
    " 'thigh',\n",
    " 'tibio-tarsalarticulation',\n",
    " 'tarsus',\n",
    " 'feet',\n",
    " 'tibia',\n",
    " 'belly',\n",
    " 'flanks',\n",
    " 'breast',\n",
    " 'throat',\n",
    " 'wattle',\n",
    " 'eyestripe'\n",
    ",'others']"
   ]
  },
  {
   "cell_type": "code",
   "execution_count": 18,
   "id": "dirty-freeware",
   "metadata": {},
   "outputs": [],
   "source": [
    "csv_table.to_csv('temp.csv',index=False)"
   ]
  },
  {
   "cell_type": "markdown",
   "id": "breeding-image",
   "metadata": {},
   "source": [
    "## Loading into CrowdTruth Framework"
   ]
  },
  {
   "cell_type": "code",
   "execution_count": 21,
   "id": "muslim-channels",
   "metadata": {},
   "outputs": [],
   "source": [
    "data, config = crowdtruth.load(\n",
    "    file = \"temp.csv\",\n",
    "    config = TestConfig(),\n",
    "    annotation_separator = ',' \n",
    ")\n",
    "\n",
    "data['judgments'].head()"
   ]
  },
  {
   "cell_type": "code",
   "execution_count": 22,
   "id": "protective-parcel",
   "metadata": {},
   "outputs": [],
   "source": [
    "results = crowdtruth.run(data, config)"
   ]
  },
  {
   "cell_type": "code",
   "execution_count": 23,
   "id": "coordinated-former",
   "metadata": {},
   "outputs": [
    {
     "data": {
      "text/html": [
       "<div>\n",
       "<style scoped>\n",
       "    .dataframe tbody tr th:only-of-type {\n",
       "        vertical-align: middle;\n",
       "    }\n",
       "\n",
       "    .dataframe tbody tr th {\n",
       "        vertical-align: top;\n",
       "    }\n",
       "\n",
       "    .dataframe thead th {\n",
       "        text-align: right;\n",
       "    }\n",
       "</style>\n",
       "<table border=\"1\" class=\"dataframe\">\n",
       "  <thead>\n",
       "    <tr style=\"text-align: right;\">\n",
       "      <th></th>\n",
       "      <th>duration</th>\n",
       "      <th>input.INPUT:image_right</th>\n",
       "      <th>job</th>\n",
       "      <th>output.OUTPUT:result</th>\n",
       "      <th>output.OUTPUT:result.annotations</th>\n",
       "      <th>output.OUTPUT:result.unique_annotations</th>\n",
       "      <th>worker</th>\n",
       "      <th>uqs</th>\n",
       "      <th>unit_annotation_score</th>\n",
       "      <th>uqs_initial</th>\n",
       "      <th>unit_annotation_score_initial</th>\n",
       "    </tr>\n",
       "    <tr>\n",
       "      <th>unit</th>\n",
       "      <th></th>\n",
       "      <th></th>\n",
       "      <th></th>\n",
       "      <th></th>\n",
       "      <th></th>\n",
       "      <th></th>\n",
       "      <th></th>\n",
       "      <th></th>\n",
       "      <th></th>\n",
       "      <th></th>\n",
       "      <th></th>\n",
       "    </tr>\n",
       "  </thead>\n",
       "  <tbody>\n",
       "    <tr>\n",
       "      <th>000179ad8d--60bc7d723c003231386e581a</th>\n",
       "      <td>8.55</td>\n",
       "      <td>/pilot/GilaWoodpecker/gila_woodpecker_batch_0_...</td>\n",
       "      <td>v2</td>\n",
       "      <td>{'beak': 4, 'pupil': 1, 'scapulars': 2, 'terti...</td>\n",
       "      <td>46</td>\n",
       "      <td>22</td>\n",
       "      <td>20</td>\n",
       "      <td>0.239425</td>\n",
       "      <td>{'beak': 0.4954289916617755, 'pupil': 0.217281...</td>\n",
       "      <td>0.082471</td>\n",
       "      <td>{'beak': 0.2, 'pupil': 0.05, 'scapulars': 0.1,...</td>\n",
       "    </tr>\n",
       "    <tr>\n",
       "      <th>000179ad8d--60bc7d723c003231386e581b</th>\n",
       "      <td>6.00</td>\n",
       "      <td>/pilot/GilaWoodpecker/gila_woodpecker_batch_1_...</td>\n",
       "      <td>v2</td>\n",
       "      <td>{'rump': 3, 'tarsus': 3, 'beak': 3, 'head': 3,...</td>\n",
       "      <td>48</td>\n",
       "      <td>21</td>\n",
       "      <td>20</td>\n",
       "      <td>0.284344</td>\n",
       "      <td>{'rump': 0.028158744560430025, 'tarsus': 0.107...</td>\n",
       "      <td>0.081028</td>\n",
       "      <td>{'rump': 0.15, 'tarsus': 0.15, 'beak': 0.15, '...</td>\n",
       "    </tr>\n",
       "    <tr>\n",
       "      <th>000179ad8d--60bc7d723c003231386e581c</th>\n",
       "      <td>6.35</td>\n",
       "      <td>/pilot/GilaWoodpecker/gila_woodpecker_batch_1_...</td>\n",
       "      <td>v2</td>\n",
       "      <td>{'pupil': 3, 'scapulars': 3, 'beak': 4, 'head'...</td>\n",
       "      <td>43</td>\n",
       "      <td>21</td>\n",
       "      <td>20</td>\n",
       "      <td>0.243615</td>\n",
       "      <td>{'pupil': 0.34823787829628067, 'scapulars': 0....</td>\n",
       "      <td>0.085893</td>\n",
       "      <td>{'pupil': 0.15, 'scapulars': 0.15, 'beak': 0.2...</td>\n",
       "    </tr>\n",
       "    <tr>\n",
       "      <th>000179ad8d--60bc7d723c003231386e581d</th>\n",
       "      <td>7.15</td>\n",
       "      <td>/pilot/GilaWoodpecker/gila_woodpecker_batch_1_...</td>\n",
       "      <td>v2</td>\n",
       "      <td>{'head': 4, 'mantle': 4, 'rump': 5, 'breast': ...</td>\n",
       "      <td>41</td>\n",
       "      <td>18</td>\n",
       "      <td>20</td>\n",
       "      <td>0.491683</td>\n",
       "      <td>{'head': 0.7841582106235858, 'mantle': 0.37317...</td>\n",
       "      <td>0.092875</td>\n",
       "      <td>{'head': 0.2, 'mantle': 0.2, 'rump': 0.25, 'br...</td>\n",
       "    </tr>\n",
       "    <tr>\n",
       "      <th>000179ad8d--60bc7d723c003231386e581e</th>\n",
       "      <td>6.45</td>\n",
       "      <td>/pilot/GilaWoodpecker/gila_woodpecker_batch_1_...</td>\n",
       "      <td>v2</td>\n",
       "      <td>{'beak': 4, 'head': 4, 'mantle': 4, 'rump': 3,...</td>\n",
       "      <td>45</td>\n",
       "      <td>19</td>\n",
       "      <td>20</td>\n",
       "      <td>0.543366</td>\n",
       "      <td>{'beak': 0.2949376007786904, 'head': 0.8366162...</td>\n",
       "      <td>0.077554</td>\n",
       "      <td>{'beak': 0.2, 'head': 0.2, 'mantle': 0.2, 'rum...</td>\n",
       "    </tr>\n",
       "  </tbody>\n",
       "</table>\n",
       "</div>"
      ],
      "text/plain": [
       "                                      duration  \\\n",
       "unit                                             \n",
       "000179ad8d--60bc7d723c003231386e581a      8.55   \n",
       "000179ad8d--60bc7d723c003231386e581b      6.00   \n",
       "000179ad8d--60bc7d723c003231386e581c      6.35   \n",
       "000179ad8d--60bc7d723c003231386e581d      7.15   \n",
       "000179ad8d--60bc7d723c003231386e581e      6.45   \n",
       "\n",
       "                                                                input.INPUT:image_right  \\\n",
       "unit                                                                                      \n",
       "000179ad8d--60bc7d723c003231386e581a  /pilot/GilaWoodpecker/gila_woodpecker_batch_0_...   \n",
       "000179ad8d--60bc7d723c003231386e581b  /pilot/GilaWoodpecker/gila_woodpecker_batch_1_...   \n",
       "000179ad8d--60bc7d723c003231386e581c  /pilot/GilaWoodpecker/gila_woodpecker_batch_1_...   \n",
       "000179ad8d--60bc7d723c003231386e581d  /pilot/GilaWoodpecker/gila_woodpecker_batch_1_...   \n",
       "000179ad8d--60bc7d723c003231386e581e  /pilot/GilaWoodpecker/gila_woodpecker_batch_1_...   \n",
       "\n",
       "                                     job  \\\n",
       "unit                                       \n",
       "000179ad8d--60bc7d723c003231386e581a  v2   \n",
       "000179ad8d--60bc7d723c003231386e581b  v2   \n",
       "000179ad8d--60bc7d723c003231386e581c  v2   \n",
       "000179ad8d--60bc7d723c003231386e581d  v2   \n",
       "000179ad8d--60bc7d723c003231386e581e  v2   \n",
       "\n",
       "                                                                   output.OUTPUT:result  \\\n",
       "unit                                                                                      \n",
       "000179ad8d--60bc7d723c003231386e581a  {'beak': 4, 'pupil': 1, 'scapulars': 2, 'terti...   \n",
       "000179ad8d--60bc7d723c003231386e581b  {'rump': 3, 'tarsus': 3, 'beak': 3, 'head': 3,...   \n",
       "000179ad8d--60bc7d723c003231386e581c  {'pupil': 3, 'scapulars': 3, 'beak': 4, 'head'...   \n",
       "000179ad8d--60bc7d723c003231386e581d  {'head': 4, 'mantle': 4, 'rump': 5, 'breast': ...   \n",
       "000179ad8d--60bc7d723c003231386e581e  {'beak': 4, 'head': 4, 'mantle': 4, 'rump': 3,...   \n",
       "\n",
       "                                      output.OUTPUT:result.annotations  \\\n",
       "unit                                                                     \n",
       "000179ad8d--60bc7d723c003231386e581a                                46   \n",
       "000179ad8d--60bc7d723c003231386e581b                                48   \n",
       "000179ad8d--60bc7d723c003231386e581c                                43   \n",
       "000179ad8d--60bc7d723c003231386e581d                                41   \n",
       "000179ad8d--60bc7d723c003231386e581e                                45   \n",
       "\n",
       "                                      output.OUTPUT:result.unique_annotations  \\\n",
       "unit                                                                            \n",
       "000179ad8d--60bc7d723c003231386e581a                                       22   \n",
       "000179ad8d--60bc7d723c003231386e581b                                       21   \n",
       "000179ad8d--60bc7d723c003231386e581c                                       21   \n",
       "000179ad8d--60bc7d723c003231386e581d                                       18   \n",
       "000179ad8d--60bc7d723c003231386e581e                                       19   \n",
       "\n",
       "                                      worker       uqs  \\\n",
       "unit                                                     \n",
       "000179ad8d--60bc7d723c003231386e581a      20  0.239425   \n",
       "000179ad8d--60bc7d723c003231386e581b      20  0.284344   \n",
       "000179ad8d--60bc7d723c003231386e581c      20  0.243615   \n",
       "000179ad8d--60bc7d723c003231386e581d      20  0.491683   \n",
       "000179ad8d--60bc7d723c003231386e581e      20  0.543366   \n",
       "\n",
       "                                                                  unit_annotation_score  \\\n",
       "unit                                                                                      \n",
       "000179ad8d--60bc7d723c003231386e581a  {'beak': 0.4954289916617755, 'pupil': 0.217281...   \n",
       "000179ad8d--60bc7d723c003231386e581b  {'rump': 0.028158744560430025, 'tarsus': 0.107...   \n",
       "000179ad8d--60bc7d723c003231386e581c  {'pupil': 0.34823787829628067, 'scapulars': 0....   \n",
       "000179ad8d--60bc7d723c003231386e581d  {'head': 0.7841582106235858, 'mantle': 0.37317...   \n",
       "000179ad8d--60bc7d723c003231386e581e  {'beak': 0.2949376007786904, 'head': 0.8366162...   \n",
       "\n",
       "                                      uqs_initial  \\\n",
       "unit                                                \n",
       "000179ad8d--60bc7d723c003231386e581a     0.082471   \n",
       "000179ad8d--60bc7d723c003231386e581b     0.081028   \n",
       "000179ad8d--60bc7d723c003231386e581c     0.085893   \n",
       "000179ad8d--60bc7d723c003231386e581d     0.092875   \n",
       "000179ad8d--60bc7d723c003231386e581e     0.077554   \n",
       "\n",
       "                                                          unit_annotation_score_initial  \n",
       "unit                                                                                     \n",
       "000179ad8d--60bc7d723c003231386e581a  {'beak': 0.2, 'pupil': 0.05, 'scapulars': 0.1,...  \n",
       "000179ad8d--60bc7d723c003231386e581b  {'rump': 0.15, 'tarsus': 0.15, 'beak': 0.15, '...  \n",
       "000179ad8d--60bc7d723c003231386e581c  {'pupil': 0.15, 'scapulars': 0.15, 'beak': 0.2...  \n",
       "000179ad8d--60bc7d723c003231386e581d  {'head': 0.2, 'mantle': 0.2, 'rump': 0.25, 'br...  \n",
       "000179ad8d--60bc7d723c003231386e581e  {'beak': 0.2, 'head': 0.2, 'mantle': 0.2, 'rum...  "
      ]
     },
     "execution_count": 23,
     "metadata": {},
     "output_type": "execute_result"
    }
   ],
   "source": [
    "results[\"units\"].head()"
   ]
  },
  {
   "cell_type": "code",
   "execution_count": 24,
   "id": "entitled-typing",
   "metadata": {},
   "outputs": [
    {
     "data": {
      "text/plain": [
       "Text(0.5, 1.0, 'Image quality score distribution')"
      ]
     },
     "execution_count": 24,
     "metadata": {},
     "output_type": "execute_result"
    },
    {
     "data": {
      "image/png": "[encoded data removed]",
      "text/plain": [
       "<Figure size 640x480 with 1 Axes>"
      ]
     },
     "metadata": {},
     "output_type": "display_data"
    }
   ],
   "source": [
    "import matplotlib.pyplot as plt\n",
    "%matplotlib inline\n",
    "plt.style.use(['default'])\n",
    "plt.hist(results[\"units\"][\"uqs\"])\n",
    "plt.xlabel(\"image quality score\")\n",
    "plt.ylabel(\"# Images\")\n",
    "plt.title('Image quality score distribution')"
   ]
  },
  {
   "cell_type": "code",
   "execution_count": 25,
   "id": "equivalent-launch",
   "metadata": {},
   "outputs": [
    {
     "data": {
      "text/html": [
       "<div>\n",
       "<style scoped>\n",
       "    .dataframe tbody tr th:only-of-type {\n",
       "        vertical-align: middle;\n",
       "    }\n",
       "\n",
       "    .dataframe tbody tr th {\n",
       "        vertical-align: top;\n",
       "    }\n",
       "\n",
       "    .dataframe thead th {\n",
       "        text-align: right;\n",
       "    }\n",
       "</style>\n",
       "<table border=\"1\" class=\"dataframe\">\n",
       "  <thead>\n",
       "    <tr style=\"text-align: right;\">\n",
       "      <th></th>\n",
       "      <th>input.INPUT:image_right</th>\n",
       "      <th>uqs</th>\n",
       "      <th>unit_annotation_score</th>\n",
       "    </tr>\n",
       "    <tr>\n",
       "      <th>unit</th>\n",
       "      <th></th>\n",
       "      <th></th>\n",
       "      <th></th>\n",
       "    </tr>\n",
       "  </thead>\n",
       "  <tbody>\n",
       "    <tr>\n",
       "      <th>000179ad8d--60bc7d723c003231386e5823</th>\n",
       "      <td>/pilot/GilaWoodpecker/gila_woodpecker_batch_2_...</td>\n",
       "      <td>0.229340</td>\n",
       "      <td>{'scapulars': 0.3329543101151954, 'primaries':...</td>\n",
       "    </tr>\n",
       "    <tr>\n",
       "      <th>000179ad8d--60bc7d723c003231386e581a</th>\n",
       "      <td>/pilot/GilaWoodpecker/gila_woodpecker_batch_0_...</td>\n",
       "      <td>0.239425</td>\n",
       "      <td>{'beak': 0.4954289916617755, 'pupil': 0.217281...</td>\n",
       "    </tr>\n",
       "    <tr>\n",
       "      <th>000179ad8d--60bc7d723c003231386e581c</th>\n",
       "      <td>/pilot/GilaWoodpecker/gila_woodpecker_batch_1_...</td>\n",
       "      <td>0.243615</td>\n",
       "      <td>{'pupil': 0.34823787829628067, 'scapulars': 0....</td>\n",
       "    </tr>\n",
       "    <tr>\n",
       "      <th>000179ad8d--60bc7d723c003231386e5821</th>\n",
       "      <td>/pilot/GilaWoodpecker/gila_woodpecker_batch_2_...</td>\n",
       "      <td>0.276404</td>\n",
       "      <td>{'vent': 0.32676208398892126, 'flanks': 0.2295...</td>\n",
       "    </tr>\n",
       "    <tr>\n",
       "      <th>000179ad8d--60bc7d723c003231386e581b</th>\n",
       "      <td>/pilot/GilaWoodpecker/gila_woodpecker_batch_1_...</td>\n",
       "      <td>0.284344</td>\n",
       "      <td>{'rump': 0.028158744560430025, 'tarsus': 0.107...</td>\n",
       "    </tr>\n",
       "  </tbody>\n",
       "</table>\n",
       "</div>"
      ],
      "text/plain": [
       "                                                                input.INPUT:image_right  \\\n",
       "unit                                                                                      \n",
       "000179ad8d--60bc7d723c003231386e5823  /pilot/GilaWoodpecker/gila_woodpecker_batch_2_...   \n",
       "000179ad8d--60bc7d723c003231386e581a  /pilot/GilaWoodpecker/gila_woodpecker_batch_0_...   \n",
       "000179ad8d--60bc7d723c003231386e581c  /pilot/GilaWoodpecker/gila_woodpecker_batch_1_...   \n",
       "000179ad8d--60bc7d723c003231386e5821  /pilot/GilaWoodpecker/gila_woodpecker_batch_2_...   \n",
       "000179ad8d--60bc7d723c003231386e581b  /pilot/GilaWoodpecker/gila_woodpecker_batch_1_...   \n",
       "\n",
       "                                           uqs  \\\n",
       "unit                                             \n",
       "000179ad8d--60bc7d723c003231386e5823  0.229340   \n",
       "000179ad8d--60bc7d723c003231386e581a  0.239425   \n",
       "000179ad8d--60bc7d723c003231386e581c  0.243615   \n",
       "000179ad8d--60bc7d723c003231386e5821  0.276404   \n",
       "000179ad8d--60bc7d723c003231386e581b  0.284344   \n",
       "\n",
       "                                                                  unit_annotation_score  \n",
       "unit                                                                                     \n",
       "000179ad8d--60bc7d723c003231386e5823  {'scapulars': 0.3329543101151954, 'primaries':...  \n",
       "000179ad8d--60bc7d723c003231386e581a  {'beak': 0.4954289916617755, 'pupil': 0.217281...  \n",
       "000179ad8d--60bc7d723c003231386e581c  {'pupil': 0.34823787829628067, 'scapulars': 0....  \n",
       "000179ad8d--60bc7d723c003231386e5821  {'vent': 0.32676208398892126, 'flanks': 0.2295...  \n",
       "000179ad8d--60bc7d723c003231386e581b  {'rump': 0.028158744560430025, 'tarsus': 0.107...  "
      ]
     },
     "execution_count": 25,
     "metadata": {},
     "output_type": "execute_result"
    }
   ],
   "source": [
    "results[\"units\"].sort_values(by=[\"uqs\"])[[\"input.INPUT:image_right\", \"uqs\", \"unit_annotation_score\"]].head()"
   ]
  },
  {
   "cell_type": "code",
   "execution_count": 26,
   "id": "promotional-occasion",
   "metadata": {},
   "outputs": [
    {
     "data": {
      "text/plain": [
       "23"
      ]
     },
     "execution_count": 26,
     "metadata": {},
     "output_type": "execute_result"
    }
   ],
   "source": [
    "results[\"units\"][\"uqs\"].where(results[\"units\"].uqs>=0.3).count()"
   ]
  },
  {
   "cell_type": "code",
   "execution_count": 27,
   "id": "artificial-friday",
   "metadata": {},
   "outputs": [
    {
     "data": {
      "text/plain": [
       "30"
      ]
     },
     "execution_count": 27,
     "metadata": {},
     "output_type": "execute_result"
    }
   ],
   "source": [
    "results[\"units\"][\"uqs\"].count()"
   ]
  },
  {
   "cell_type": "code",
   "execution_count": 28,
   "id": "sufficient-clear",
   "metadata": {},
   "outputs": [
    {
     "data": {
      "text/html": [
       "<div>\n",
       "<style scoped>\n",
       "    .dataframe tbody tr th:only-of-type {\n",
       "        vertical-align: middle;\n",
       "    }\n",
       "\n",
       "    .dataframe tbody tr th {\n",
       "        vertical-align: top;\n",
       "    }\n",
       "\n",
       "    .dataframe thead th {\n",
       "        text-align: right;\n",
       "    }\n",
       "</style>\n",
       "<table border=\"1\" class=\"dataframe\">\n",
       "  <thead>\n",
       "    <tr style=\"text-align: right;\">\n",
       "      <th></th>\n",
       "      <th>output.OUTPUT:result</th>\n",
       "      <th>aqs</th>\n",
       "    </tr>\n",
       "  </thead>\n",
       "  <tbody>\n",
       "    <tr>\n",
       "      <th>head</th>\n",
       "      <td>147</td>\n",
       "      <td>0.832</td>\n",
       "    </tr>\n",
       "    <tr>\n",
       "      <th>mantle</th>\n",
       "      <td>78</td>\n",
       "      <td>0.182</td>\n",
       "    </tr>\n",
       "    <tr>\n",
       "      <th>beak</th>\n",
       "      <td>123</td>\n",
       "      <td>0.170</td>\n",
       "    </tr>\n",
       "    <tr>\n",
       "      <th>pupil</th>\n",
       "      <td>72</td>\n",
       "      <td>0.150</td>\n",
       "    </tr>\n",
       "    <tr>\n",
       "      <th>iris</th>\n",
       "      <td>66</td>\n",
       "      <td>0.141</td>\n",
       "    </tr>\n",
       "    <tr>\n",
       "      <th>scapulars</th>\n",
       "      <td>80</td>\n",
       "      <td>0.137</td>\n",
       "    </tr>\n",
       "    <tr>\n",
       "      <th>primaries</th>\n",
       "      <td>53</td>\n",
       "      <td>0.125</td>\n",
       "    </tr>\n",
       "    <tr>\n",
       "      <th>coverts</th>\n",
       "      <td>75</td>\n",
       "      <td>0.124</td>\n",
       "    </tr>\n",
       "    <tr>\n",
       "      <th>lessercoverts</th>\n",
       "      <td>55</td>\n",
       "      <td>0.110</td>\n",
       "    </tr>\n",
       "    <tr>\n",
       "      <th>rump</th>\n",
       "      <td>76</td>\n",
       "      <td>0.097</td>\n",
       "    </tr>\n",
       "    <tr>\n",
       "      <th>throat</th>\n",
       "      <td>53</td>\n",
       "      <td>0.095</td>\n",
       "    </tr>\n",
       "    <tr>\n",
       "      <th>belly</th>\n",
       "      <td>48</td>\n",
       "      <td>0.094</td>\n",
       "    </tr>\n",
       "    <tr>\n",
       "      <th>tarsus</th>\n",
       "      <td>47</td>\n",
       "      <td>0.089</td>\n",
       "    </tr>\n",
       "    <tr>\n",
       "      <th>thigh</th>\n",
       "      <td>55</td>\n",
       "      <td>0.080</td>\n",
       "    </tr>\n",
       "    <tr>\n",
       "      <th>vent</th>\n",
       "      <td>53</td>\n",
       "      <td>0.069</td>\n",
       "    </tr>\n",
       "    <tr>\n",
       "      <th>tertials</th>\n",
       "      <td>62</td>\n",
       "      <td>0.061</td>\n",
       "    </tr>\n",
       "    <tr>\n",
       "      <th>feet</th>\n",
       "      <td>45</td>\n",
       "      <td>0.030</td>\n",
       "    </tr>\n",
       "    <tr>\n",
       "      <th>flanks</th>\n",
       "      <td>41</td>\n",
       "      <td>0.029</td>\n",
       "    </tr>\n",
       "    <tr>\n",
       "      <th>tibia</th>\n",
       "      <td>34</td>\n",
       "      <td>0.028</td>\n",
       "    </tr>\n",
       "    <tr>\n",
       "      <th>tibio-tarsalarticulation</th>\n",
       "      <td>39</td>\n",
       "      <td>0.026</td>\n",
       "    </tr>\n",
       "    <tr>\n",
       "      <th>breast</th>\n",
       "      <td>32</td>\n",
       "      <td>0.017</td>\n",
       "    </tr>\n",
       "    <tr>\n",
       "      <th>wattle</th>\n",
       "      <td>24</td>\n",
       "      <td>0.003</td>\n",
       "    </tr>\n",
       "    <tr>\n",
       "      <th>eyestripe</th>\n",
       "      <td>19</td>\n",
       "      <td>0.001</td>\n",
       "    </tr>\n",
       "    <tr>\n",
       "      <th>others</th>\n",
       "      <td>43</td>\n",
       "      <td>0.000</td>\n",
       "    </tr>\n",
       "  </tbody>\n",
       "</table>\n",
       "</div>"
      ],
      "text/plain": [
       "                          output.OUTPUT:result    aqs\n",
       "head                                       147  0.832\n",
       "mantle                                      78  0.182\n",
       "beak                                       123  0.170\n",
       "pupil                                       72  0.150\n",
       "iris                                        66  0.141\n",
       "scapulars                                   80  0.137\n",
       "primaries                                   53  0.125\n",
       "coverts                                     75  0.124\n",
       "lessercoverts                               55  0.110\n",
       "rump                                        76  0.097\n",
       "throat                                      53  0.095\n",
       "belly                                       48  0.094\n",
       "tarsus                                      47  0.089\n",
       "thigh                                       55  0.080\n",
       "vent                                        53  0.069\n",
       "tertials                                    62  0.061\n",
       "feet                                        45  0.030\n",
       "flanks                                      41  0.029\n",
       "tibia                                       34  0.028\n",
       "tibio-tarsalarticulation                    39  0.026\n",
       "breast                                      32  0.017\n",
       "wattle                                      24  0.003\n",
       "eyestripe                                   19  0.001\n",
       "others                                      43  0.000"
      ]
     },
     "execution_count": 28,
     "metadata": {},
     "output_type": "execute_result"
    }
   ],
   "source": [
    "results[\"annotations\"][\"output.OUTPUT:result\"] = 0\n",
    "\n",
    "for idx in results[\"judgments\"].index:\n",
    "    for k,v in results[\"judgments\"][\"output.OUTPUT:result\"][idx].items():\n",
    "        if v > 0:\n",
    "            results[\"annotations\"].loc[k, \"output.OUTPUT:result\"] += 1\n",
    "    \n",
    "\n",
    "results[\"annotations\"] = results[\"annotations\"].sort_values(by=[\"aqs\"], ascending=False)\n",
    "results[\"annotations\"].round(3)[[\"output.OUTPUT:result\", \"aqs\"]]"
   ]
  },
  {
   "cell_type": "code",
   "execution_count": 32,
   "id": "western-desire",
   "metadata": {},
   "outputs": [
    {
     "data": {
      "text/plain": [
       "Text(0.5, 1.0, 'Worker quality distribution')"
      ]
     },
     "execution_count": 32,
     "metadata": {},
     "output_type": "execute_result"
    },
    {
     "data": {
      "image/png": "[encoded data removed]",
      "text/plain": [
       "<Figure size 640x480 with 1 Axes>"
      ]
     },
     "metadata": {},
     "output_type": "display_data"
    }
   ],
   "source": [
    "import matplotlib.pyplot as plt\n",
    "plt.hist(results[\"workers\"][\"wqs\"])\n",
    "plt.xlabel(\"Worker Quality Score\")\n",
    "plt.ylabel(\"# Workers\")\n",
    "plt.title('Worker quality distribution')"
   ]
  },
  {
   "cell_type": "markdown",
   "id": "animated-liquid",
   "metadata": {},
   "source": [
    "## Least Unambigious images"
   ]
  },
  {
   "cell_type": "code",
   "execution_count": 91,
   "id": "terminal-wonder",
   "metadata": {},
   "outputs": [
    {
     "data": {
      "text/plain": [
       "'/pilot/HarlequinDuckMale/harlequin_duck_male_batch_4_9.png'"
      ]
     },
     "execution_count": 91,
     "metadata": {},
     "output_type": "execute_result"
    }
   ],
   "source": [
    "results[\"units\"].sort_values(by=[\"uqs\"], ascending=False)[[\"input.INPUT:image_right\", \"unit_annotation_score\",\"output.OUTPUT:result\"]]['input.INPUT:image_right'][0]"
   ]
  },
  {
   "cell_type": "code",
   "execution_count": 148,
   "id": "joint-fifth",
   "metadata": {},
   "outputs": [],
   "source": [
    "from collections import Counter\n",
    "b = results[\"units\"].sort_values(by=[\"uqs\"], ascending=False)[[\"input.INPUT:image_right\", \"unit_annotation_score\",\"output.OUTPUT:result\"]]['unit_annotation_score'][0]"
   ]
  },
  {
   "cell_type": "code",
   "execution_count": 149,
   "id": "eastern-convert",
   "metadata": {},
   "outputs": [],
   "source": [
    "c = dict((y, x) for x, y in b.most_common(5))"
   ]
  },
  {
   "cell_type": "code",
   "execution_count": 150,
   "id": "pursuant-excitement",
   "metadata": {},
   "outputs": [
    {
     "data": {
      "image/png": "[encoded data removed]",
      "text/plain": [
       "<Figure size 640x480 with 1 Axes>"
      ]
     },
     "metadata": {},
     "output_type": "display_data"
    }
   ],
   "source": [
    "plt.bar(c.values(), c.keys())\n",
    "# plt.xticks(indexes + width * 0.5, labels)\n",
    "plt.show()"
   ]
  },
  {
   "cell_type": "markdown",
   "id": "fundamental-wholesale",
   "metadata": {},
   "source": [
    "## Most  Unambigious images"
   ]
  },
  {
   "cell_type": "code",
   "execution_count": 88,
   "id": "right-magazine",
   "metadata": {},
   "outputs": [
    {
     "data": {
      "text/plain": [
       "'/pilot/GilaWoodpecker/gila_woodpecker_batch_2_6.png'"
      ]
     },
     "execution_count": 88,
     "metadata": {},
     "output_type": "execute_result"
    }
   ],
   "source": [
    "results[\"units\"].sort_values(by=[\"uqs\"])[[\"input.INPUT:image_right\", \"uqs\", \"unit_annotation_score\"]].head()['input.INPUT:image_right'][0]"
   ]
  },
  {
   "cell_type": "code",
   "execution_count": 133,
   "id": "compact-recovery",
   "metadata": {},
   "outputs": [],
   "source": [
    "a = results[\"units\"].sort_values(by=[\"uqs\"])[[\"input.INPUT:image_right\", \"unit_annotation_score\",\"output.OUTPUT:result\"]]['unit_annotation_score'][0]"
   ]
  },
  {
   "cell_type": "code",
   "execution_count": 140,
   "id": "lined-headline",
   "metadata": {},
   "outputs": [
    {
     "data": {
      "text/plain": [
       "('mantle', 0.5747041547737092)"
      ]
     },
     "execution_count": 140,
     "metadata": {},
     "output_type": "execute_result"
    }
   ],
   "source": []
  },
  {
   "cell_type": "code",
   "execution_count": 143,
   "id": "removable-graphic",
   "metadata": {},
   "outputs": [],
   "source": [
    "w = dict((y, x) for x, y in a.most_common(5))"
   ]
  },
  {
   "cell_type": "code",
   "execution_count": 145,
   "id": "documented-intranet",
   "metadata": {},
   "outputs": [
    {
     "data": {
      "image/png": "[encoded data removed]",
      "text/plain": [
       "<Figure size 640x480 with 1 Axes>"
      ]
     },
     "metadata": {},
     "output_type": "display_data"
    }
   ],
   "source": [
    "plt.bar(w.values(), w.keys())\n",
    "plt.show()"
   ]
  }
 ],
 "metadata": {
  "kernelspec": {
   "display_name": "Python 3",
   "language": "python",
   "name": "python3"
  },
  "language_info": {
   "codemirror_mode": {
    "name": "ipython",
    "version": 3
   },
   "file_extension": ".py",
   "mimetype": "text/x-python",
   "name": "python",
   "nbconvert_exporter": "python",
   "pygments_lexer": "ipython3",
   "version": "3.8.5"
  }
 },
 "nbformat": 4,
 "nbformat_minor": 5
}
