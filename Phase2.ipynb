{
 "cells": [
  {
   "cell_type": "code",
   "execution_count": null,
   "id": "sublime-implement",
   "metadata": {},
   "outputs": [],
   "source": [
    "import pandas as pd"
   ]
  },
  {
   "cell_type": "code",
   "execution_count": null,
   "id": "supposed-triple",
   "metadata": {},
   "outputs": [],
   "source": [
    "coarse = pd.read_csv('phase2_results/wq_res_pred_coarse_003.csv')\n",
    "fine = pd.read_csv('phase2_results/wq_res_pred_fine_003.csv')\n",
    "text = pd.read_csv('phase2_results/wq_res_pred_text_003.csv')"
   ]
  },
  {
   "cell_type": "code",
   "execution_count": null,
   "id": "heated-shooting",
   "metadata": {},
   "outputs": [],
   "source": [
    "coarse['wqs'].mean()"
   ]
  },
  {
   "cell_type": "code",
   "execution_count": null,
   "id": "exotic-mailing",
   "metadata": {},
   "outputs": [],
   "source": [
    "fine['wqs'].mean()"
   ]
  },
  {
   "cell_type": "code",
   "execution_count": null,
   "id": "acquired-algebra",
   "metadata": {},
   "outputs": [],
   "source": [
    "text['wqs'].mean()"
   ]
  },
  {
   "cell_type": "code",
   "execution_count": null,
   "id": "nearby-baseball",
   "metadata": {},
   "outputs": [],
   "source": [
    "coarse_a ={\n",
    "   \"head\":0.9999946216348058,\n",
    "   \"tail\":0.20000627419644934,\n",
    "   \"wings\":0.1999742042880262,\n",
    "   \"chest\":1.7927348719026379e-06,\n",
    "   \"leg\":4.105476895405606e-17,\n",
    "   \"neck\":7.3839979141885125e-25,\n",
    "   \"beak\":4.435043664385322e-25,\n",
    "   \"others\":2.9489541157159556e-25,\n",
    "   \"back\":0.0,\n",
    "   \"eye\":0.0,\n",
    "   \"wing\":0.0,\n",
    "   \"torso\":0.0,\n",
    "   \"pupil\":0.0,\n",
    "   \"throat\":0.0,\n",
    "   \"flanks\":0.0,\n",
    "   \"primaries\":0.0,\n",
    "   \"not head\":0.0,\n",
    "   \"nape\":0.0,\n",
    "   \"ear coverts\":0.0,\n",
    "   \"belly\":0.0,\n",
    "   \"skull\":0.0,\n",
    "   \"body\":0.0,\n",
    "   \"1\":0.0\n",
    "}"
   ]
  },
  {
   "cell_type": "code",
   "execution_count": null,
   "id": "toxic-figure",
   "metadata": {},
   "outputs": [],
   "source": [
    "fine_a = {\n",
    "   \"beak\":0.9999948006640978,\n",
    "   \"feet\":0.36793434248764767,\n",
    "   \"primaries\":0.18395306587054075,\n",
    "   \"belly\":0.18395181939502592,\n",
    "   \"rump\":0.18395133315351758,\n",
    "   \"iris\":0.1839505459090493,\n",
    "   \"throat\":0.1839502791554618,\n",
    "   \"flanks\":0.18394967352970956,\n",
    "   \"tertials\":0.18394960025856186,\n",
    "   \"tarsus\":0.1839491517083257,\n",
    "   \"tibia\":0.18394881301506383,\n",
    "   \"scapulars\":0.18394854626197185,\n",
    "   \"head\":0.18394854626095938,\n",
    "   \"breast\":0.18394854626069598,\n",
    "   \"mantle\":0.18394854626050605,\n",
    "   \"vent\":0.18394854626050605,\n",
    "   \"wattle\":0.18394854626050605,\n",
    "   \"eyestripe\":0.18394854626050605,\n",
    "   \"lesser coverts\":2.3383429050059146e-06,\n",
    "   \"coverts\":1.999648543223154e-06,\n",
    "   \"thigh\":2.66753587496412e-07,\n",
    "   \"pupil\":1.0996291378584434e-12,\n",
    "   \"others\":2.973726283513804e-23,\n",
    "   \"eye\":0.0,\n",
    "   \"wing\":0.0,\n",
    "   \"torso\":0.0,\n",
    "   \"not head\":0.0,\n",
    "   \"nape\":0.0,\n",
    "   \"ear coverts\":0.0,\n",
    "   \"chest\":0.0,\n",
    "   \"skull\":0.0,\n",
    "   \"body\":0.0,\n",
    "   \"wings\":0.0,\n",
    "   \"1\":0.0\n",
    "}"
   ]
  },
  {
   "cell_type": "code",
   "execution_count": null,
   "id": "loose-territory",
   "metadata": {},
   "outputs": [],
   "source": [
    "text_a = {\n",
    "   \"wing\":1.0,\n",
    "   \"head\":0.33333333194444453,\n",
    "   \"torso\":0.33333333194444453,\n",
    "   \"belly\":0.3333333319444445,\n",
    "   \"chest\":0.3333333319444445,\n",
    "   \"beak\":0.0,\n",
    "   \"eye\":0.0,\n",
    "   \"pupil\":0.0,\n",
    "   \"throat\":0.0,\n",
    "   \"flanks\":0.0,\n",
    "   \"primaries\":0.0,\n",
    "   \"not head\":0.0,\n",
    "   \"nape\":0.0,\n",
    "   \"ear coverts\":0.0,\n",
    "   \"skull\":0.0,\n",
    "   \"body\":0.0,\n",
    "   \"wings\":0.0,\n",
    "   \"1\":0.0\n",
    "}"
   ]
  },
  {
   "cell_type": "code",
   "execution_count": null,
   "id": "warming-wichita",
   "metadata": {},
   "outputs": [],
   "source": [
    "import matplotlib.pyplot as plt  \n",
    "plt.style.use('default')"
   ]
  },
  {
   "cell_type": "code",
   "execution_count": null,
   "id": "champion-jesus",
   "metadata": {},
   "outputs": [],
   "source": [
    "import matplotlib.pyplot as plt\n",
    "fig = plt.figure()\n",
    "ax = fig.add_axes([0,0,1,1])\n",
    "langs = ['Coarse Grained', 'Fine Grained', 'Text-based']\n",
    "students = [sum(coarse_a.values())/len(coarse_a),sum(fine_a.values())/len(fine_a),sum(text_a.values())/len(text_a)]\n",
    "ax.bar(langs,students)\n",
    "plt.xlabel(\"Task Type\")\n",
    "plt.ylabel('Mean annotation quality')\n",
    "plt.title('Mean annotation quality across tasks')\n",
    "plt.show()"
   ]
  },
  {
   "cell_type": "code",
   "execution_count": null,
   "id": "several-blackberry",
   "metadata": {},
   "outputs": [],
   "source": [
    "fig = plt.figure()\n",
    "ax = fig.add_axes([0,0,1,1])\n",
    "langs = ['Fine Grained', 'Coarse Grained', 'Text-based']\n",
    "students = [fine['wqs'].mean(),coarse['wqs'].mean(),text['wqs'].mean()]\n",
    "ax.bar(langs,students)\n",
    "plt.xlabel(\"Task Type\")\n",
    "plt.ylabel('Mean worker quality')\n",
    "plt.title('Mean worker quality across tasks')\n",
    "plt.show()"
   ]
  }
 ],
 "metadata": {
  "kernelspec": {
   "display_name": "Python 3",
   "language": "python",
   "name": "python3"
  },
  "language_info": {
   "codemirror_mode": {
    "name": "ipython",
    "version": 3
   },
   "file_extension": ".py",
   "mimetype": "text/x-python",
   "name": "python",
   "nbconvert_exporter": "python",
   "pygments_lexer": "ipython3",
   "version": "3.8.5"
  }
 },
 "nbformat": 4,
 "nbformat_minor": 5
}
